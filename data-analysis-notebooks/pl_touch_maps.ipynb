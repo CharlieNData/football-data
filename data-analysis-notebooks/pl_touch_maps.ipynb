{
 "cells": [
  {
   "cell_type": "code",
   "execution_count": 7,
   "metadata": {},
   "outputs": [],
   "source": [
    "%matplotlib inline"
   ]
  },
  {
   "cell_type": "markdown",
   "metadata": {},
   "source": [
    "# Premier League Touch Maps\n",
    "\n",
    "Visualisation of Premier League sides' touch volumes in each third of the pitch."
   ]
  },
  {
   "cell_type": "code",
   "execution_count": 8,
   "metadata": {},
   "outputs": [],
   "source": [
    "from mplsoccer.pitch import Pitch, add_image\n",
    "import pandas as pd\n",
    "import numpy as np\n",
    "import matplotlib.patheffects as path_effects\n",
    "import time\n",
    "from PIL import Image\n",
    "from urllib.request import urlopen"
   ]
  },
  {
   "cell_type": "code",
   "execution_count": 19,
   "metadata": {},
   "outputs": [
    {
     "data": {
      "text/html": [
       "<div>\n",
       "<style scoped>\n",
       "    .dataframe tbody tr th:only-of-type {\n",
       "        vertical-align: middle;\n",
       "    }\n",
       "\n",
       "    .dataframe tbody tr th {\n",
       "        vertical-align: top;\n",
       "    }\n",
       "\n",
       "    .dataframe thead th {\n",
       "        text-align: right;\n",
       "    }\n",
       "</style>\n",
       "<table border=\"1\" class=\"dataframe\">\n",
       "  <thead>\n",
       "    <tr style=\"text-align: right;\">\n",
       "      <th></th>\n",
       "      <th>Squad</th>\n",
       "      <th>Touches</th>\n",
       "      <th>Def Pen</th>\n",
       "      <th>Def 3rd</th>\n",
       "      <th>Mid 3rd</th>\n",
       "      <th>Att 3rd</th>\n",
       "      <th>Att Pen</th>\n",
       "      <th>Live</th>\n",
       "    </tr>\n",
       "  </thead>\n",
       "  <tbody>\n",
       "    <tr>\n",
       "      <td>0</td>\n",
       "      <td>Arsenal</td>\n",
       "      <td>22880</td>\n",
       "      <td>2758</td>\n",
       "      <td>8106</td>\n",
       "      <td>10885</td>\n",
       "      <td>5412</td>\n",
       "      <td>887</td>\n",
       "      <td>21161</td>\n",
       "    </tr>\n",
       "    <tr>\n",
       "      <td>1</td>\n",
       "      <td>Aston Villa</td>\n",
       "      <td>18504</td>\n",
       "      <td>2576</td>\n",
       "      <td>6863</td>\n",
       "      <td>7867</td>\n",
       "      <td>4985</td>\n",
       "      <td>735</td>\n",
       "      <td>16739</td>\n",
       "    </tr>\n",
       "    <tr>\n",
       "      <td>2</td>\n",
       "      <td>Bournemouth</td>\n",
       "      <td>19752</td>\n",
       "      <td>2630</td>\n",
       "      <td>7476</td>\n",
       "      <td>8352</td>\n",
       "      <td>5049</td>\n",
       "      <td>773</td>\n",
       "      <td>18049</td>\n",
       "    </tr>\n",
       "    <tr>\n",
       "      <td>3</td>\n",
       "      <td>Brighton</td>\n",
       "      <td>22451</td>\n",
       "      <td>2639</td>\n",
       "      <td>8178</td>\n",
       "      <td>9886</td>\n",
       "      <td>5786</td>\n",
       "      <td>828</td>\n",
       "      <td>20835</td>\n",
       "    </tr>\n",
       "    <tr>\n",
       "      <td>4</td>\n",
       "      <td>Burnley</td>\n",
       "      <td>17550</td>\n",
       "      <td>2295</td>\n",
       "      <td>5748</td>\n",
       "      <td>8215</td>\n",
       "      <td>4416</td>\n",
       "      <td>593</td>\n",
       "      <td>15834</td>\n",
       "    </tr>\n",
       "  </tbody>\n",
       "</table>\n",
       "</div>"
      ],
      "text/plain": [
       "         Squad  Touches  Def Pen  Def 3rd  Mid 3rd  Att 3rd  Att Pen   Live\n",
       "0      Arsenal    22880     2758     8106    10885     5412      887  21161\n",
       "1  Aston Villa    18504     2576     6863     7867     4985      735  16739\n",
       "2  Bournemouth    19752     2630     7476     8352     5049      773  18049\n",
       "3     Brighton    22451     2639     8178     9886     5786      828  20835\n",
       "4      Burnley    17550     2295     5748     8215     4416      593  15834"
      ]
     },
     "execution_count": 19,
     "metadata": {},
     "output_type": "execute_result"
    }
   ],
   "source": [
    "# Scrape FBRef data and access Touches data\n",
    "url = ('https://widgets.sports-reference.com/wg.fcgi?css=1&site=fb&url=%2Fen%2Fcomps%2F9%2Fpossession%2FPremier-League-Stats'\n",
    "       '&div=div_stats_possession_squads')\n",
    "df = pd.read_html(url)[0]\n",
    "df = df[['Unnamed: 0_level_0', 'Touches']].copy()\n",
    "df.columns = df.columns.droplevel() \n",
    "df.head()"
   ]
  },
  {
   "cell_type": "code",
   "execution_count": null,
   "metadata": {},
   "outputs": [],
   "source": []
  }
 ],
 "metadata": {
  "kernelspec": {
   "display_name": "Python 3",
   "language": "python",
   "name": "python3"
  },
  "language_info": {
   "codemirror_mode": {
    "name": "ipython",
    "version": 3
   },
   "file_extension": ".py",
   "mimetype": "text/x-python",
   "name": "python",
   "nbconvert_exporter": "python",
   "pygments_lexer": "ipython3",
   "version": "3.7.4"
  }
 },
 "nbformat": 4,
 "nbformat_minor": 2
}
